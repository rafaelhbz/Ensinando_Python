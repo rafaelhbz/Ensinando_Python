{
 "cells": [
  {
   "cell_type": "markdown",
   "metadata": {},
   "source": [
    " # Outra parte muito importante do Python é aprender o que seria um variável e como ela pode ser utilizada\n",
    "  \n",
    "## Antes de utilizar uma variável é necessário definir um valor inicial para ela"
   ]
  },
  {
   "cell_type": "markdown",
   "metadata": {},
   "source": [
    "## Exemplo"
   ]
  },
  {
   "cell_type": "code",
   "execution_count": 1,
   "metadata": {},
   "outputs": [],
   "source": [
    "variavel_a = 0"
   ]
  },
  {
   "cell_type": "markdown",
   "metadata": {},
   "source": [
    "## O comando print é utilizado para tornar o argumento interno vísivel no console\n",
    "\n",
    "### Em vez de somente o computador entender o que está sendo feito, quem está manuseando o código também pode entender o que está  ocorrendo dentro do computador\n",
    "\n",
    "### DICA  IMPORTANTE : utilizar print sempre que estiver em duvida sobre o fucionamento do seu código ou se houver algum erro inesperado e você não consegue descobrir de onde que ele veio ou o porquê de seu código não estar sendo excecutado como devia"
   ]
  },
  {
   "cell_type": "code",
   "execution_count": 2,
   "metadata": {},
   "outputs": [
    {
     "name": "stdout",
     "output_type": "stream",
     "text": [
      "0\n"
     ]
    }
   ],
   "source": [
    "print(variavel_a)"
   ]
  },
  {
   "cell_type": "markdown",
   "metadata": {},
   "source": [
    "## E se eu substituir o valor da variável por outro?"
   ]
  },
  {
   "cell_type": "code",
   "execution_count": 4,
   "metadata": {},
   "outputs": [
    {
     "name": "stdout",
     "output_type": "stream",
     "text": [
      "2\n"
     ]
    }
   ],
   "source": [
    "variavel_a = 2\n",
    "\n",
    "print(variavel_a)"
   ]
  },
  {
   "cell_type": "markdown",
   "metadata": {},
   "source": [
    "## Quando você utiliza o operador \"=\" ele tem o significado de \"substituir por\" em vez de é igual a"
   ]
  },
  {
   "cell_type": "code",
   "execution_count": 12,
   "metadata": {
    "scrolled": true
   },
   "outputs": [
    {
     "name": "stdout",
     "output_type": "stream",
     "text": [
      "5\n"
     ]
    }
   ],
   "source": [
    "variavel_x = 5\n",
    "variavel_y = 10\n",
    "\n",
    "variavel_y = variavel_x\n",
    "print(variavel_y)"
   ]
  },
  {
   "cell_type": "markdown",
   "metadata": {},
   "source": [
    "## No Python também podemos fazer as utilizar os operadores básicos \"+\", \"-\", \"*\", \"/\" para respectivamente realizar as operações de \"soma\", \"subtração\", \"multiplicação\", \"divisão\""
   ]
  },
  {
   "cell_type": "code",
   "execution_count": 16,
   "metadata": {},
   "outputs": [
    {
     "name": "stdout",
     "output_type": "stream",
     "text": [
      "10\n",
      "0\n",
      "25\n",
      "1.0\n"
     ]
    }
   ],
   "source": [
    "soma = variavel_x + variavel_y\n",
    "subtracao = variavel_x - variavel_y\n",
    "multiplicacao = variavel_x * variavel_y\n",
    "divisao = variavel_x / variavel_y\n",
    "\n",
    "print(soma)\n",
    "print(subtracao)\n",
    "print(multiplicacao)\n",
    "print(divisao)"
   ]
  },
  {
   "cell_type": "markdown",
   "metadata": {},
   "source": [
    "## Além dos operadores básicos também é possível realizar operadorações um pouco mais complexas como exponenciação( \" ** \" ) e radiciação ( elevar pelo inverso do expoente desejado \")"
   ]
  },
  {
   "cell_type": "code",
   "execution_count": 19,
   "metadata": {},
   "outputs": [
    {
     "name": "stdout",
     "output_type": "stream",
     "text": [
      "25\n"
     ]
    }
   ],
   "source": [
    "expoente = 2\n",
    "exponencial_y = (variavel_y) ** expoente\n",
    "print(exponencial_y)"
   ]
  },
  {
   "cell_type": "code",
   "execution_count": 37,
   "metadata": {},
   "outputs": [
    {
     "name": "stdout",
     "output_type": "stream",
     "text": [
      "2.23606797749979\n"
     ]
    }
   ],
   "source": [
    "expoente_2 = (1/2)\n",
    "raiz_y = (variavel_y) ** expoente_2\n",
    "print(raiz_y)"
   ]
  },
  {
   "cell_type": "markdown",
   "metadata": {},
   "source": [
    "## Além disso nós podemos utilizar a biblioteca \"math\" para facilitar a nossa vida\n",
    "\n",
    "### para entender o que é a biblioteca \"math\" utilize este comando: help(math)"
   ]
  },
  {
   "cell_type": "code",
   "execution_count": 27,
   "metadata": {},
   "outputs": [],
   "source": [
    "import math\n",
    "#help(math)"
   ]
  },
  {
   "cell_type": "code",
   "execution_count": 38,
   "metadata": {},
   "outputs": [
    {
     "name": "stdout",
     "output_type": "stream",
     "text": [
      "2.23606797749979\n"
     ]
    },
    {
     "data": {
      "text/plain": [
       "True"
      ]
     },
     "execution_count": 38,
     "metadata": {},
     "output_type": "execute_result"
    }
   ],
   "source": [
    "math_raiz_y = math.sqrt(variavel_y)\n",
    "print(math_raiz_y)\n",
    "\n",
    "raiz_y == math_raiz_y"
   ]
  },
  {
   "cell_type": "markdown",
   "metadata": {},
   "source": [
    "# Além dos operadores já conhecidos por nós o Python também abriga novos operadores. São eles:\n",
    "\n",
    "## % \"divide por e retorna o resto da divisão\". Vale a pena ressaltar que ao realizar a operação \" x % y \" se \"y\" for maior que \"x\" então o valor retornado é \"x\"\n",
    "\n",
    "## //  \"divide por e retorna quantas vezes o denominador cabe no numerador\". Vale a pena ressaltar que ao realizar a operação \" x // y\" se \"y\" for maior que \"x\" então o valor retornado é igual a 0"
   ]
  },
  {
   "cell_type": "code",
   "execution_count": 65,
   "metadata": {},
   "outputs": [
    {
     "name": "stdout",
     "output_type": "stream",
     "text": [
      "0\n",
      "2\n",
      "12\n"
     ]
    }
   ],
   "source": [
    "k = 12\n",
    "x = 2\n",
    "y = 5\n",
    "z = 100000\n",
    "\n",
    "resto_1 = k % x\n",
    "print(resto_1)\n",
    "\n",
    "resto_2 = k % y\n",
    "print(resto_2)\n",
    "\n",
    "resto_3 = k% z\n",
    "print(resto_3)"
   ]
  },
  {
   "cell_type": "code",
   "execution_count": 71,
   "metadata": {},
   "outputs": [
    {
     "name": "stdout",
     "output_type": "stream",
     "text": [
      "5\n",
      "1\n"
     ]
    }
   ],
   "source": [
    "a = 15\n",
    "b = 3\n",
    "c = 12\n",
    "d = 100000\n",
    "\n",
    "cabe_em_1 = a // b\n",
    "print(cabe_em_1)\n",
    "\n",
    "cabe_em_2 = a // c\n",
    "print(cabe_em_2)\n",
    "\n",
    "cabe_em_3 = a // d"
   ]
  }
 ],
 "metadata": {
  "kernelspec": {
   "display_name": "Python 3",
   "language": "python",
   "name": "python3"
  },
  "language_info": {
   "codemirror_mode": {
    "name": "ipython",
    "version": 3
   },
   "file_extension": ".py",
   "mimetype": "text/x-python",
   "name": "python",
   "nbconvert_exporter": "python",
   "pygments_lexer": "ipython3",
   "version": "3.7.1"
  }
 },
 "nbformat": 4,
 "nbformat_minor": 2
}
