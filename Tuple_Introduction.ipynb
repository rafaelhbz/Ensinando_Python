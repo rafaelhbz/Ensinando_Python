{
 "cells": [
  {
   "cell_type": "markdown",
   "metadata": {},
   "source": [
    "## --------------------------------------------------------------------------------------------------------------"
   ]
  },
  {
   "cell_type": "markdown",
   "metadata": {},
   "source": [
    "## A tupla armazena um conjunto de valores e os torna inalteráveis\n",
    "\n",
    "## Para transformar \"x\" em tupla é necessário realizar o módulo tuple(x)\n",
    "\n",
    "## Para criar uma tupla é necessário colocar todas os argumentos que você quiser entre parentes"
   ]
  },
  {
   "cell_type": "markdown",
   "metadata": {},
   "source": [
    "## --------------------------------------------------------------------------------------------------------------"
   ]
  },
  {
   "cell_type": "markdown",
   "metadata": {},
   "source": [
    "## Exemplo"
   ]
  },
  {
   "cell_type": "code",
   "execution_count": 39,
   "metadata": {},
   "outputs": [],
   "source": [
    "tupla = (1,2,3,3,4,5,\"a\")\n",
    "#print(type(tupla))"
   ]
  },
  {
   "cell_type": "markdown",
   "metadata": {},
   "source": [
    "## --------------------------------------------------------------------------------------------------------------"
   ]
  },
  {
   "cell_type": "markdown",
   "metadata": {},
   "source": [
    "## Com tuplas podem ser realizadas algumas operações, entre elas:"
   ]
  },
  {
   "cell_type": "code",
   "execution_count": null,
   "metadata": {},
   "outputs": [],
   "source": [
    "mutiply_tuple = tupla * 1\n",
    "#print(multiply_tuple)\n",
    "\n",
    "sum_tuple = tupla + tupla\n",
    "#print(sum_tuple)"
   ]
  },
  {
   "cell_type": "markdown",
   "metadata": {},
   "source": [
    "## Para descobrir quantos elementos existem dentro de uma tupla é necessário utilizar o módulo len(\"nome_da_sua_tupla)"
   ]
  },
  {
   "cell_type": "code",
   "execution_count": 53,
   "metadata": {},
   "outputs": [],
   "source": [
    "number_elements = len(tupla)"
   ]
  },
  {
   "cell_type": "markdown",
   "metadata": {},
   "source": [
    "## Para contar quantas vezes \"x\" está dentro da tupla é necessário utilizar o método nome_da_sua_tupla.count(\"x\")"
   ]
  },
  {
   "cell_type": "code",
   "execution_count": 48,
   "metadata": {},
   "outputs": [],
   "source": [
    "conta_as = tupla.count(\"a\")\n",
    "conta_1 = tupla.count(1)\n",
    "conta_3 = tupla.count(3)"
   ]
  },
  {
   "cell_type": "markdown",
   "metadata": {},
   "source": [
    "## Para procurar em qual indicie da tupla o \"x\" se encontra é necessário utilizar o método nome_da_sua_tupla.index(\"x\")"
   ]
  },
  {
   "cell_type": "code",
   "execution_count": 52,
   "metadata": {},
   "outputs": [],
   "source": [
    "index_1 = tupla.index(1)\n",
    "index_3 = tupla.index(3)\n",
    "index_a = tupla.index(\"a\")"
   ]
  },
  {
   "cell_type": "markdown",
   "metadata": {},
   "source": [
    "## --------------------------------------------------------------------------------------------------------------"
   ]
  },
  {
   "cell_type": "markdown",
   "metadata": {},
   "source": [
    "## Assim como a string, também é possível iterar sobre os valores dentro e uma tupla"
   ]
  },
  {
   "cell_type": "code",
   "execution_count": 56,
   "metadata": {},
   "outputs": [
    {
     "name": "stdout",
     "output_type": "stream",
     "text": [
      "1\n",
      "2\n",
      "3\n",
      "3\n",
      "4\n",
      "5\n",
      "a\n"
     ]
    }
   ],
   "source": [
    "i = 0\n",
    "while i < number_elements:\n",
    "    print(tupla[i])\n",
    "    i = i + 1\n",
    "    \n",
    "## Lembrando que isto é somente uma introdução e que os métodos de iteração serão mostrados em um próximo módulo"
   ]
  },
  {
   "cell_type": "code",
   "execution_count": null,
   "metadata": {},
   "outputs": [],
   "source": []
  }
 ],
 "metadata": {
  "kernelspec": {
   "display_name": "Python 3",
   "language": "python",
   "name": "python3"
  },
  "language_info": {
   "codemirror_mode": {
    "name": "ipython",
    "version": 3
   },
   "file_extension": ".py",
   "mimetype": "text/x-python",
   "name": "python",
   "nbconvert_exporter": "python",
   "pygments_lexer": "ipython3",
   "version": "3.7.1"
  }
 },
 "nbformat": 4,
 "nbformat_minor": 2
}
