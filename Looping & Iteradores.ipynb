{
 "cells": [
  {
   "cell_type": "markdown",
   "metadata": {},
   "source": [
    "# Em programação muitas vezes é necessário repetir um mesmo processo para se obter o valor desejado\n",
    "\n",
    "# Para isso é necessário utilizar loopings como while ou for"
   ]
  },
  {
   "cell_type": "code",
   "execution_count": null,
   "metadata": {},
   "outputs": [],
   "source": []
  },
  {
   "cell_type": "markdown",
   "metadata": {},
   "source": [
    "## O while consiste em um sistema de looping mais complexo e mais forte. Ele é mais complexo pois demanda mais variáveis para a sua execução, porém ter mais variáveis torna"
   ]
  },
  {
   "cell_type": "code",
   "execution_count": null,
   "metadata": {},
   "outputs": [],
   "source": []
  },
  {
   "cell_type": "markdown",
   "metadata": {},
   "source": [
    "## Existem várias formas de utilizar o while, uma delas é o while contador\n",
    "\n",
    "## Esse método será explicado a baixo"
   ]
  },
  {
   "cell_type": "code",
   "execution_count": 9,
   "metadata": {},
   "outputs": [
    {
     "name": "stdout",
     "output_type": "stream",
     "text": [
      "Este é o valor atual do contador: 0 \n",
      "Este é o valor do contador somado com  1 a mais: 1\n",
      "Este é o valor atual do contador: 1 \n",
      "Este é o valor do contador somado com  1 a mais: 2\n",
      "Este é o valor atual do contador: 2 \n",
      "Este é o valor do contador somado com  1 a mais: 3\n"
     ]
    }
   ],
   "source": [
    "contador = 0\n",
    "while contador < 3:\n",
    "    print(\"Este é o valor atual do contador: {0} \".format(contador))\n",
    "    contador = contador + 1\n",
    "    print(\"Este é o valor do contador somado com  1 a mais: {0}\".format(contador))"
   ]
  },
  {
   "cell_type": "markdown",
   "metadata": {},
   "source": [
    "## Outra forma de utilizar o contador é realizar operações multiplas"
   ]
  },
  {
   "cell_type": "markdown",
   "metadata": {},
   "source": [
    "## Uma delas é a soma"
   ]
  },
  {
   "cell_type": "code",
   "execution_count": 12,
   "metadata": {},
   "outputs": [
    {
     "name": "stdout",
     "output_type": "stream",
     "text": [
      "10\n"
     ]
    }
   ],
   "source": [
    "contador1 = 0\n",
    "vezes = 5\n",
    "soma = 0\n",
    "while contador1 < vezes:\n",
    "    soma = soma + contador1\n",
    "    contador1 = contador1 + 1\n",
    "    \n",
    "print(soma)"
   ]
  },
  {
   "cell_type": "markdown",
   "metadata": {},
   "source": [
    "## Outra delas é a multiplicação"
   ]
  },
  {
   "cell_type": "code",
   "execution_count": 15,
   "metadata": {},
   "outputs": [
    {
     "name": "stdout",
     "output_type": "stream",
     "text": [
      "5\n",
      "10\n",
      "30\n",
      "120\n",
      "600\n"
     ]
    }
   ],
   "source": [
    "contador2 = 1\n",
    "vezes1 = 5\n",
    "multi = 5\n",
    "while contador2 <= vezes1:\n",
    "    multi = multi * contador2\n",
    "    print(multi)\n",
    "    contador2 = contador2 + 1"
   ]
  }
 ],
 "metadata": {
  "kernelspec": {
   "display_name": "Python 3",
   "language": "python",
   "name": "python3"
  },
  "language_info": {
   "codemirror_mode": {
    "name": "ipython",
    "version": 3
   },
   "file_extension": ".py",
   "mimetype": "text/x-python",
   "name": "python",
   "nbconvert_exporter": "python",
   "pygments_lexer": "ipython3",
   "version": "3.7.1"
  }
 },
 "nbformat": 4,
 "nbformat_minor": 2
}
