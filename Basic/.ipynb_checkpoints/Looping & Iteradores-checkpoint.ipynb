{
 "cells": [
  {
   "cell_type": "markdown",
   "metadata": {},
   "source": [
    "# Em programação muitas vezes é necessário repetir um mesmo processo para se chegar no resultado desejado\n",
    "\n",
    "* ## Para isso é necessário utilizar loopings como while ou for"
   ]
  },
  {
   "cell_type": "code",
   "execution_count": null,
   "metadata": {},
   "outputs": [],
   "source": []
  },
  {
   "cell_type": "markdown",
   "metadata": {},
   "source": [
    "## O while consiste em um sistema de looping mais complexo e mais forte. Ele é mais complexo pois demanda mais variáveis para a sua execução, porém ter mais variáveis torna o mais complexo"
   ]
  },
  {
   "cell_type": "code",
   "execution_count": null,
   "metadata": {},
   "outputs": [],
   "source": []
  },
  {
   "cell_type": "markdown",
   "metadata": {},
   "source": [
    "## Existem várias formas de utilizar o while, uma delas é o while contador\n",
    "\n",
    "* ## Esse método será explicado a baixo"
   ]
  },
  {
   "cell_type": "code",
   "execution_count": 1,
   "metadata": {},
   "outputs": [
    {
     "name": "stdout",
     "output_type": "stream",
     "text": [
      "Este é o valor atual do contador: 0 \n",
      "Este é o valor do contador somado com  1 a mais: 1\n",
      "Este é o valor atual do contador: 1 \n",
      "Este é o valor do contador somado com  1 a mais: 2\n",
      "Este é o valor atual do contador: 2 \n",
      "Este é o valor do contador somado com  1 a mais: 3\n"
     ]
    }
   ],
   "source": [
    "contador = 0\n",
    "while contador < 3:\n",
    "    print(\"Este é o valor atual do contador: {0} \".format(contador))\n",
    "    contador = contador + 1\n",
    "    print(\"Este é o valor do contador somado com  1 a mais: {0}\".format(contador))"
   ]
  },
  {
   "cell_type": "markdown",
   "metadata": {},
   "source": [
    "## Outra forma de utilizar o contador é realizar operações multiplas\n",
    "* ## Uma delas é a soma"
   ]
  },
  {
   "cell_type": "code",
   "execution_count": 22,
   "metadata": {},
   "outputs": [
    {
     "name": "stdout",
     "output_type": "stream",
     "text": [
      "O termo  que sera somado à soma anterior é 1\n",
      "A soma anterior somado com o elemento atual é 1\n",
      "O termo  que sera somado à soma anterior é 2\n",
      "A soma anterior somado com o elemento atual é 3\n",
      "O termo  que sera somado à soma anterior é 3\n",
      "A soma anterior somado com o elemento atual é 6\n",
      "O termo  que sera somado à soma anterior é 4\n",
      "A soma anterior somado com o elemento atual é 10\n",
      "O termo  que sera somado à soma anterior é 5\n",
      "A soma anterior somado com o elemento atual é 15\n",
      "O termo  que sera somado à soma anterior é 6\n",
      "A soma anterior somado com o elemento atual é 21\n",
      "O termo  que sera somado à soma anterior é 7\n",
      "A soma anterior somado com o elemento atual é 28\n",
      "O termo  que sera somado à soma anterior é 8\n",
      "A soma anterior somado com o elemento atual é 36\n",
      "O termo  que sera somado à soma anterior é 9\n",
      "A soma anterior somado com o elemento atual é 45\n",
      "A soma final é 45\n"
     ]
    }
   ],
   "source": [
    "lista = [1, 2, 3, 4, 5, 6, 7, 8, 9]\n",
    "contador1 = 0\n",
    "soma = 0\n",
    "while contador1 < len(lista):\n",
    "    print(\"O termo  que sera somado à soma anterior é {0}\".format(lista[contador1]))\n",
    "    soma = soma + lista[contador1]\n",
    "    print(\"A soma anterior somado com o elemento atual é {0}\".format(soma))\n",
    "    contador1 = contador1 + 1\n",
    "    \n",
    "print(\"A soma final é {0}\".format(soma))"
   ]
  },
  {
   "cell_type": "markdown",
   "metadata": {},
   "source": [
    "## Outra delas é a multiplicação\n",
    "* ### Nessa caso esta sendo realizado um fatorial"
   ]
  },
  {
   "cell_type": "code",
   "execution_count": null,
   "metadata": {},
   "outputs": [],
   "source": [
    "contador2 = 1\n",
    "vezes1 = 5\n",
    "numero = 5\n",
    "while contador2 < vezes1:\n",
    "    numero = numero * contador2\n",
    "    print(numero)\n",
    "    contador2 = contador2 + 1"
   ]
  },
  {
   "cell_type": "code",
   "execution_count": null,
   "metadata": {},
   "outputs": [],
   "source": []
  },
  {
   "cell_type": "markdown",
   "metadata": {},
   "source": [
    "## O for consiste em um iterador mais simples e por isso com menos variaveis"
   ]
  },
  {
   "cell_type": "markdown",
   "metadata": {},
   "source": [
    "## For realizado em uma soma\n",
    "* ### Nesse caso esta acontecendo uma soma sucessiva"
   ]
  },
  {
   "cell_type": "code",
   "execution_count": 24,
   "metadata": {},
   "outputs": [
    {
     "name": "stdout",
     "output_type": "stream",
     "text": [
      "45\n"
     ]
    }
   ],
   "source": [
    "lista_2 = [1,2,3,4,5,6,7,8,9]\n",
    "soma_for = 0\n",
    "for elementos in lista_2:\n",
    "    soma_for = soma_for + elementos\n",
    "    \n",
    "print(soma_for)"
   ]
  },
  {
   "cell_type": "markdown",
   "metadata": {},
   "source": [
    "## For realizado em uma multiplicacao\n",
    "* ### Nesse caso sera realizado uma multiplicacao sucesiva"
   ]
  },
  {
   "cell_type": "code",
   "execution_count": 28,
   "metadata": {},
   "outputs": [
    {
     "name": "stdout",
     "output_type": "stream",
     "text": [
      "362880\n"
     ]
    }
   ],
   "source": [
    "multiplica = 1\n",
    "for elementos in lista_2:\n",
    "    multiplica = elementos * multiplica\n",
    "    \n",
    "print(multiplica)"
   ]
  }
 ],
 "metadata": {
  "kernelspec": {
   "display_name": "Python 3",
   "language": "python",
   "name": "python3"
  },
  "language_info": {
   "codemirror_mode": {
    "name": "ipython",
    "version": 3
   },
   "file_extension": ".py",
   "mimetype": "text/x-python",
   "name": "python",
   "nbconvert_exporter": "python",
   "pygments_lexer": "ipython3",
   "version": "3.7.4"
  }
 },
 "nbformat": 4,
 "nbformat_minor": 2
}
