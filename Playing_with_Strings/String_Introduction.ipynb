{
 "cells": [
  {
   "cell_type": "code",
   "execution_count": null,
   "metadata": {},
   "outputs": [],
   "source": []
  },
  {
   "cell_type": "markdown",
   "metadata": {},
   "source": [
    "## Toda e qualquer letra ou combinação de letras utilizada no Python será interpretada como uma variável e dará erro ao ser chamada (caso não há qualquer pré-estabelecido nessa variável)\n",
    "\n",
    "## Então para escrever frases como humanos para o computador entender o que estamos falando foi-se criado o modo \"string\" no Python"
   ]
  },
  {
   "cell_type": "code",
   "execution_count": null,
   "metadata": {},
   "outputs": [],
   "source": []
  },
  {
   "cell_type": "markdown",
   "metadata": {},
   "source": [
    "## Qualquer informação que esteja entre as \" \" (aspas abertas, depois aspas fechadas) se tornará automaticamente uma string\n"
   ]
  },
  {
   "cell_type": "code",
   "execution_count": 3,
   "metadata": {},
   "outputs": [],
   "source": [
    "init_ex = 1\n",
    "init = type(init_ex)\n",
    "#print(init)\n",
    "\n",
    "string_ex = \"init_ex\"\n",
    "string = type(string_ex)\n",
    "#print(string)"
   ]
  },
  {
   "cell_type": "markdown",
   "metadata": {},
   "source": [
    "## Para converter qualquer valor \"x\" em uma string é necessário utilizar o método \"str(x)\""
   ]
  },
  {
   "cell_type": "code",
   "execution_count": 7,
   "metadata": {},
   "outputs": [],
   "source": [
    "string_convert = str(init_ex)\n",
    "string2 = type(string_convert)\n",
    "#print(string2)"
   ]
  },
  {
   "cell_type": "markdown",
   "metadata": {},
   "source": [
    "## --------------------------------------------------------------------------------------------------------------"
   ]
  },
  {
   "cell_type": "markdown",
   "metadata": {},
   "source": [
    "## Existem alguns métodos que podem ser utilizados com uma string"
   ]
  },
  {
   "cell_type": "markdown",
   "metadata": {},
   "source": [
    "## --------------------------------------------------------------------------------------------------------------"
   ]
  },
  {
   "cell_type": "markdown",
   "metadata": {},
   "source": [
    "### Soma"
   ]
  },
  {
   "cell_type": "code",
   "execution_count": 17,
   "metadata": {},
   "outputs": [],
   "source": [
    "string_nome1 = \"Rafael\"\n",
    "string_nome2 = \"YourName\"\n",
    "\n",
    "string_sum = \"Rafael\" + \" \" +  \"Yourname\"\n",
    "#print(string_sum)\n",
    "\n",
    "#Lembrando que os espaços também são contados dentro de uma string"
   ]
  },
  {
   "cell_type": "markdown",
   "metadata": {},
   "source": [
    "### Slice"
   ]
  },
  {
   "cell_type": "code",
   "execution_count": 55,
   "metadata": {},
   "outputs": [
    {
     "name": "stdout",
     "output_type": "stream",
     "text": [
      "Rafa\n",
      "eafa\n"
     ]
    }
   ],
   "source": [
    "initial_cut = 0\n",
    "cut_until = 4\n",
    "by = 1\n",
    "cut_string = string_nome1[initial_cut : cut_until : by]\n",
    "print(cut_string)\n",
    "\n",
    "#Também pode-se cortar de trás para frente\n",
    "by2 = -1\n",
    "cut_string2 = string_nome1[cut_until : initial_cut  : by2]\n",
    "print(cut_string2)"
   ]
  },
  {
   "cell_type": "markdown",
   "metadata": {},
   "source": [
    "## Isto é somente uma curiosidade que será explicada no próximo módulo, mas podemos iterar sobre uma string"
   ]
  },
  {
   "cell_type": "code",
   "execution_count": 60,
   "metadata": {},
   "outputs": [
    {
     "name": "stdout",
     "output_type": "stream",
     "text": [
      "B\n",
      "o\n",
      "m\n",
      " \n",
      "d\n",
      "i\n",
      "a\n",
      "!\n"
     ]
    }
   ],
   "source": [
    "string = \"Bom dia!\"\n",
    "index = 0\n",
    "while index < len(string):\n",
    "    print(string[index])\n",
    "    index = index + 1"
   ]
  }
 ],
 "metadata": {
  "kernelspec": {
   "display_name": "Python 3",
   "language": "python",
   "name": "python3"
  },
  "language_info": {
   "codemirror_mode": {
    "name": "ipython",
    "version": 3
   },
   "file_extension": ".py",
   "mimetype": "text/x-python",
   "name": "python",
   "nbconvert_exporter": "python",
   "pygments_lexer": "ipython3",
   "version": "3.7.4"
  }
 },
 "nbformat": 4,
 "nbformat_minor": 2
}
